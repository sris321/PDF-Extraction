{
  "nbformat": 4,
  "nbformat_minor": 0,
  "metadata": {
    "colab": {
      "provenance": [],
      "gpuType": "T4",
      "include_colab_link": true
    },
    "kernelspec": {
      "name": "python3",
      "display_name": "Python 3"
    },
    "language_info": {
      "name": "python"
    },
    "accelerator": "GPU"
  },
  "cells": [
    {
      "cell_type": "markdown",
      "metadata": {
        "id": "view-in-github",
        "colab_type": "text"
      },
      "source": [
        "<a href=\"https://colab.research.google.com/github/sris321/PDF-Extraction/blob/main/Financial_data_extraction.ipynb\" target=\"_parent\"><img src=\"https://colab.research.google.com/assets/colab-badge.svg\" alt=\"Open In Colab\"/></a>"
      ]
    },
    {
      "cell_type": "code",
      "execution_count": 10,
      "metadata": {
        "colab": {
          "base_uri": "https://localhost:8080/"
        },
        "id": "G00GlETMcGWa",
        "outputId": "d0bf051d-f0ac-4cd4-ef28-e8f76a2c0884"
      },
      "outputs": [
        {
          "output_type": "stream",
          "name": "stdout",
          "text": [
            "Requirement already satisfied: pytesseract in /usr/local/lib/python3.11/dist-packages (0.3.13)\n",
            "Requirement already satisfied: packaging>=21.3 in /usr/local/lib/python3.11/dist-packages (from pytesseract) (24.2)\n",
            "Requirement already satisfied: Pillow>=8.0.0 in /usr/local/lib/python3.11/dist-packages (from pytesseract) (11.1.0)\n"
          ]
        }
      ],
      "source": [
        "pip install pytesseract"
      ]
    },
    {
      "cell_type": "code",
      "source": [
        "from google.colab import drive\n",
        "drive.mount('/content/drive')"
      ],
      "metadata": {
        "id": "yq6jvg4-Abj2",
        "colab": {
          "base_uri": "https://localhost:8080/"
        },
        "outputId": "736087d6-c79f-40a4-d2a2-66b843bd9879"
      },
      "execution_count": 11,
      "outputs": [
        {
          "output_type": "stream",
          "name": "stdout",
          "text": [
            "Drive already mounted at /content/drive; to attempt to forcibly remount, call drive.mount(\"/content/drive\", force_remount=True).\n"
          ]
        }
      ]
    },
    {
      "cell_type": "code",
      "source": [
        "pip install pdf2image"
      ],
      "metadata": {
        "colab": {
          "base_uri": "https://localhost:8080/"
        },
        "id": "IensHO6fdFQA",
        "outputId": "1eb6b3ef-d5f6-406b-8548-90a12a895859"
      },
      "execution_count": 12,
      "outputs": [
        {
          "output_type": "stream",
          "name": "stdout",
          "text": [
            "Requirement already satisfied: pdf2image in /usr/local/lib/python3.11/dist-packages (1.17.0)\n",
            "Requirement already satisfied: pillow in /usr/local/lib/python3.11/dist-packages (from pdf2image) (11.1.0)\n"
          ]
        }
      ]
    },
    {
      "cell_type": "code",
      "source": [
        "!apt-get install poppler-utils"
      ],
      "metadata": {
        "colab": {
          "base_uri": "https://localhost:8080/"
        },
        "id": "TsKn1V73eXu_",
        "outputId": "e0231178-f2ec-4b7b-cac0-92ed2564fac3"
      },
      "execution_count": 13,
      "outputs": [
        {
          "output_type": "stream",
          "name": "stdout",
          "text": [
            "Reading package lists... Done\n",
            "Building dependency tree... Done\n",
            "Reading state information... Done\n",
            "The following NEW packages will be installed:\n",
            "  poppler-utils\n",
            "0 upgraded, 1 newly installed, 0 to remove and 29 not upgraded.\n",
            "Need to get 186 kB of archives.\n",
            "After this operation, 696 kB of additional disk space will be used.\n",
            "Get:1 http://archive.ubuntu.com/ubuntu jammy-updates/main amd64 poppler-utils amd64 22.02.0-2ubuntu0.6 [186 kB]\n",
            "Fetched 186 kB in 1s (216 kB/s)\n",
            "Selecting previously unselected package poppler-utils.\n",
            "(Reading database ... 124947 files and directories currently installed.)\n",
            "Preparing to unpack .../poppler-utils_22.02.0-2ubuntu0.6_amd64.deb ...\n",
            "Unpacking poppler-utils (22.02.0-2ubuntu0.6) ...\n",
            "Setting up poppler-utils (22.02.0-2ubuntu0.6) ...\n",
            "Processing triggers for man-db (2.10.2-1) ...\n"
          ]
        }
      ]
    },
    {
      "cell_type": "code",
      "source": [
        "!apt-get install tesseract-ocr\n",
        "!apt-get install libtesseract-dev\n"
      ],
      "metadata": {
        "colab": {
          "base_uri": "https://localhost:8080/"
        },
        "id": "rveQij3oh4rF",
        "outputId": "31529dae-11c9-4614-8f9e-cffc43000bdf"
      },
      "execution_count": 14,
      "outputs": [
        {
          "output_type": "stream",
          "name": "stdout",
          "text": [
            "Reading package lists... Done\n",
            "Building dependency tree... Done\n",
            "Reading state information... Done\n",
            "The following additional packages will be installed:\n",
            "  tesseract-ocr-eng tesseract-ocr-osd\n",
            "The following NEW packages will be installed:\n",
            "  tesseract-ocr tesseract-ocr-eng tesseract-ocr-osd\n",
            "0 upgraded, 3 newly installed, 0 to remove and 29 not upgraded.\n",
            "Need to get 4,816 kB of archives.\n",
            "After this operation, 15.6 MB of additional disk space will be used.\n",
            "Get:1 http://archive.ubuntu.com/ubuntu jammy/universe amd64 tesseract-ocr-eng all 1:4.00~git30-7274cfa-1.1 [1,591 kB]\n",
            "Get:2 http://archive.ubuntu.com/ubuntu jammy/universe amd64 tesseract-ocr-osd all 1:4.00~git30-7274cfa-1.1 [2,990 kB]\n",
            "Get:3 http://archive.ubuntu.com/ubuntu jammy/universe amd64 tesseract-ocr amd64 4.1.1-2.1build1 [236 kB]\n",
            "Fetched 4,816 kB in 1s (5,845 kB/s)\n",
            "Selecting previously unselected package tesseract-ocr-eng.\n",
            "(Reading database ... 124977 files and directories currently installed.)\n",
            "Preparing to unpack .../tesseract-ocr-eng_1%3a4.00~git30-7274cfa-1.1_all.deb ...\n",
            "Unpacking tesseract-ocr-eng (1:4.00~git30-7274cfa-1.1) ...\n",
            "Selecting previously unselected package tesseract-ocr-osd.\n",
            "Preparing to unpack .../tesseract-ocr-osd_1%3a4.00~git30-7274cfa-1.1_all.deb ...\n",
            "Unpacking tesseract-ocr-osd (1:4.00~git30-7274cfa-1.1) ...\n",
            "Selecting previously unselected package tesseract-ocr.\n",
            "Preparing to unpack .../tesseract-ocr_4.1.1-2.1build1_amd64.deb ...\n",
            "Unpacking tesseract-ocr (4.1.1-2.1build1) ...\n",
            "Setting up tesseract-ocr-eng (1:4.00~git30-7274cfa-1.1) ...\n",
            "Setting up tesseract-ocr-osd (1:4.00~git30-7274cfa-1.1) ...\n",
            "Setting up tesseract-ocr (4.1.1-2.1build1) ...\n",
            "Processing triggers for man-db (2.10.2-1) ...\n",
            "Reading package lists... Done\n",
            "Building dependency tree... Done\n",
            "Reading state information... Done\n",
            "The following additional packages will be installed:\n",
            "  libarchive-dev libleptonica-dev\n",
            "The following NEW packages will be installed:\n",
            "  libarchive-dev libleptonica-dev libtesseract-dev\n",
            "0 upgraded, 3 newly installed, 0 to remove and 29 not upgraded.\n",
            "Need to get 3,743 kB of archives.\n",
            "After this operation, 16.0 MB of additional disk space will be used.\n",
            "Get:1 http://archive.ubuntu.com/ubuntu jammy-updates/main amd64 libarchive-dev amd64 3.6.0-1ubuntu1.3 [581 kB]\n",
            "Get:2 http://archive.ubuntu.com/ubuntu jammy/universe amd64 libleptonica-dev amd64 1.82.0-3build1 [1,562 kB]\n",
            "Get:3 http://archive.ubuntu.com/ubuntu jammy/universe amd64 libtesseract-dev amd64 4.1.1-2.1build1 [1,600 kB]\n",
            "Fetched 3,743 kB in 2s (2,336 kB/s)\n",
            "Selecting previously unselected package libarchive-dev:amd64.\n",
            "(Reading database ... 125024 files and directories currently installed.)\n",
            "Preparing to unpack .../libarchive-dev_3.6.0-1ubuntu1.3_amd64.deb ...\n",
            "Unpacking libarchive-dev:amd64 (3.6.0-1ubuntu1.3) ...\n",
            "Selecting previously unselected package libleptonica-dev.\n",
            "Preparing to unpack .../libleptonica-dev_1.82.0-3build1_amd64.deb ...\n",
            "Unpacking libleptonica-dev (1.82.0-3build1) ...\n",
            "Selecting previously unselected package libtesseract-dev:amd64.\n",
            "Preparing to unpack .../libtesseract-dev_4.1.1-2.1build1_amd64.deb ...\n",
            "Unpacking libtesseract-dev:amd64 (4.1.1-2.1build1) ...\n",
            "Setting up libleptonica-dev (1.82.0-3build1) ...\n",
            "Setting up libarchive-dev:amd64 (3.6.0-1ubuntu1.3) ...\n",
            "Setting up libtesseract-dev:amd64 (4.1.1-2.1build1) ...\n",
            "Processing triggers for man-db (2.10.2-1) ...\n"
          ]
        }
      ]
    },
    {
      "cell_type": "code",
      "source": [
        "!pip install python-dotenv"
      ],
      "metadata": {
        "id": "bmkLGUn_kAN9",
        "colab": {
          "base_uri": "https://localhost:8080/"
        },
        "outputId": "e7d8341b-4d2f-4dd1-fe10-0f51b0422e69"
      },
      "execution_count": 15,
      "outputs": [
        {
          "output_type": "stream",
          "name": "stdout",
          "text": [
            "Requirement already satisfied: python-dotenv in /usr/local/lib/python3.11/dist-packages (1.0.1)\n"
          ]
        }
      ]
    },
    {
      "cell_type": "code",
      "source": [],
      "metadata": {
        "id": "dOYr96yy7xyF"
      },
      "execution_count": 15,
      "outputs": []
    },
    {
      "cell_type": "code",
      "source": [
        "import pytesseract\n",
        "from PIL import Image\n",
        "import os\n",
        "import json\n",
        "import logging\n",
        "from pdf2image import convert_from_path\n",
        "from google import genai\n",
        "\n",
        "# Configure logging\n",
        "logging.basicConfig(level=logging.INFO, format='%(asctime)s - %(levelname)s - %(message)s')\n",
        "\n",
        "# Mount Google Drive (if using Google Colab)\n",
        "from google.colab import drive\n",
        "from dotenv import load_dotenv\n",
        "\n",
        "drive.mount('/content/drive')  # Connecting with Google account\n",
        "load_dotenv('/content/drive/My Drive/.env')\n",
        "api_key = os.getenv(\"GEMINI_API_KEY\")\n",
        "\n",
        "def pdf_to_images(pdf_path):\n",
        "    \"\"\"Converts a PDF file into images in memory.\"\"\"\n",
        "    images = convert_from_path(pdf_path)\n",
        "    logging.info(f\"Converted PDF to {len(images)} images in memory.\")\n",
        "    return images\n",
        "\n",
        "def generate_text(prompt):\n",
        "    \"\"\"Generates text from the Google Gemini API.\"\"\"\n",
        "    client = genai.Client(api_key=api_key)\n",
        "\n",
        "    response = client.models.generate_content(\n",
        "        model=\"gemini-2.0-flash\",\n",
        "        contents=prompt,\n",
        "    )\n",
        "    if response:\n",
        "        logging.info(\"Successfully generated response from Gemini API.\")\n",
        "        return response.text\n",
        "    else:\n",
        "        logging.warning(\"Empty response from Gemini API.\")\n",
        "    return \"{}\"\n",
        "\n",
        "def extract_financial_data(pdf_file_path):\n",
        "    logging.info(f\"Starting extraction process for {pdf_file_path}\")\n",
        "    pdf_name = os.path.basename(pdf_file_path).replace('.pdf', '')\n",
        "    images = pdf_to_images(pdf_file_path)\n",
        "    extracted_json = {}\n",
        "\n",
        "    for i, image in enumerate(images):\n",
        "        logging.info(f\"Processing page {i+1}\")\n",
        "        all_text = pytesseract.image_to_string(image)\n",
        "\n",
        "        filtered_text = \"\"\n",
        "        if all_text and (\"STATEMENT OF STANDALONE\" in all_text.upper() or \"STATEMENT OF CONSOLIDATED\" in all_text.upper() or \"STATEMENT OF UNAUDITED FINANCIAL\" in all_text.upper()):\n",
        "            filtered_text = all_text  # Directly using extracted text\n",
        "            logging.info(f\"Relevant text found in page {i+1}\")\n",
        "\n",
        "            prompt = f\"\"\"\n",
        "            Extract only standalone and consolidated financial statements from the following text.\n",
        "            Return a **valid JSON** with all the mentioned parameters for all the mentioned dates.\n",
        "            DO NOT return extra text—only return JSON format.\n",
        "\n",
        "            ### EXTRACTED TEXT FROM RELEVANT PAGES:\n",
        "            {filtered_text}\n",
        "            \"\"\"\n",
        "            json_data = generate_text(prompt)\n",
        "            json_data = json_data.replace('```json', '').replace('```', '')\n",
        "\n",
        "            try:\n",
        "                extracted_json[f\"page_{i+1}\"] = json.loads(json_data)\n",
        "                logging.info(f\"Successfully parsed JSON data for page {i+1}\")\n",
        "            except json.JSONDecodeError:\n",
        "                logging.error(f\"Error decoding JSON for page {i+1}\")\n",
        "\n",
        "        else:\n",
        "            logging.info(f\"No relevant financial data found in page {i+1}\")\n",
        "\n",
        "    # Ensure the output directory exists\n",
        "    output_directory = \"/content/output\"\n",
        "    os.makedirs(output_directory, exist_ok=True)\n",
        "\n",
        "    output_json_path = os.path.join(output_directory, f\"{pdf_name}_extracted_financials.json\")\n",
        "    with open(output_json_path, \"w\") as f:\n",
        "        json.dump(extracted_json, f, indent=4)\n",
        "\n",
        "    logging.info(f\"Extracted financial data saved to {output_json_path}\")\n",
        "    return output_json_path\n",
        "\n",
        "def inference(json_path):\n",
        "    \"\"\"Loads and prints financial data from the extracted JSON.\"\"\"\n",
        "    if not os.path.exists(json_path):\n",
        "        logging.error(\"Error: JSON file not found.\")\n",
        "        return\n",
        "\n",
        "    with open(json_path, \"r\") as f:\n",
        "        data = json.load(f)\n",
        "\n",
        "    logging.info(\"Extracted Financial Data:\")\n",
        "    for key, value in data.items():\n",
        "        logging.info(f\"\\nPage: {key}\\n{json.dumps(value, indent=4)}\")\n",
        "\n",
        "# Run extraction and inference\n",
        "pdf_path = \"/content/data30.pdf\"\n",
        "json_output = extract_financial_data(pdf_path)\n",
        "inference(json_output)"
      ],
      "metadata": {
        "colab": {
          "base_uri": "https://localhost:8080/"
        },
        "id": "C_ZLsLpk9dxN",
        "outputId": "87611cc2-1d1a-470c-9455-81e1d52bc2cd"
      },
      "execution_count": 25,
      "outputs": [
        {
          "output_type": "stream",
          "name": "stdout",
          "text": [
            "Drive already mounted at /content/drive; to attempt to forcibly remount, call drive.mount(\"/content/drive\", force_remount=True).\n"
          ]
        }
      ]
    }
  ]
}